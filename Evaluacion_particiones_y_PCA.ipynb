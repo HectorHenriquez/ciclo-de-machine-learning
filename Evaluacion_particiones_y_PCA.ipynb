{
 "cells": [
  {
   "cell_type": "code",
   "execution_count": null,
   "id": "yF_1VuxD9VfG",
   "metadata": {
    "colab": {
     "base_uri": "https://localhost:8080/"
    },
    "id": "yF_1VuxD9VfG",
    "outputId": "c6192a9a-1a14-4502-c8e1-7a35765c6be9"
   },
   "outputs": [],
   "source": [
    "!pip install gradio"
   ]
  },
  {
   "cell_type": "code",
   "execution_count": null,
   "id": "2bab7056-ee93-4df1-b2c8-7a66bae3797e",
   "metadata": {
    "id": "2bab7056-ee93-4df1-b2c8-7a66bae3797e"
   },
   "outputs": [],
   "source": [
    "import numpy as np\n",
    "import pandas as pd\n",
    "from sklearn.datasets import make_classification\n",
    "from sklearn.model_selection import train_test_split\n",
    "import sklearn.metrics as mt\n",
    "from sklearn.model_selection import StratifiedKFold\n",
    "from sklearn.metrics import classification_report,confusion_matrix, ConfusionMatrixDisplay, roc_curve, roc_auc_score\n",
    "from sklearn.tree import DecisionTreeClassifier\n",
    "from sklearn.decomposition import PCA\n",
    "from scipy.stats import norm\n",
    "from plotnine import*\n",
    "import matplotlib.pyplot as plt\n",
    "from collections import Counter\n",
    "from PIL import Image\n",
    "import io\n",
    "import gradio as gr\n",
    "\n",
    "import warnings\n",
    "warnings.filterwarnings(\"ignore\")"
   ]
  },
  {
   "cell_type": "code",
   "execution_count": null,
   "id": "nBnJUDaGrWfY",
   "metadata": {
    "id": "nBnJUDaGrWfY"
   },
   "outputs": [],
   "source": [
    "def runExperiments(n_samples, n_features, weights_array, prop_partition, repetitions):\n",
    "  X, y = make_classification(n_samples = n_samples, n_features= n_features, n_classes = 2,\n",
    "                             weights = weights_array, class_sep= 0.82, hypercube = False, random_state=111)\n",
    "\n",
    "  auc_train = np.zeros(repetitions)\n",
    "  auc_test = np.zeros(repetitions)\n",
    "  all_test_index = set()\n",
    "  index = np.arange(0,X.shape[0])\n",
    "\n",
    "\n",
    "  for i in range(0,repetitions):\n",
    "\n",
    "    #X_train, X_test, y_train, y_test = train_test_split(X, y, test_size=prop_partition)\n",
    "    train_index, test_index, _, _ = train_test_split(index, index, test_size=prop_partition)\n",
    "    all_test_index.update([int(element) for element in test_index])\n",
    "\n",
    "    X_train = X[train_index]\n",
    "    X_test = X[test_index]\n",
    "    y_train = y[train_index]\n",
    "    y_test = y[test_index]\n",
    "\n",
    "    model = DecisionTreeClassifier(criterion='gini', splitter='best', max_depth=4, min_samples_split=2, min_samples_leaf=1, random_state=0)\n",
    "    model.fit(X_train, y_train)\n",
    "    pred_score_train = model.predict_proba(X_train)[:,1]\n",
    "    pred_score_test = model.predict_proba(X_test)[:,1]\n",
    "    fpr_train, tpr_train, _ = mt.roc_curve(y_train, pred_score_train, pos_label=1)\n",
    "    auc_train[i] = round(mt.auc(fpr_train,tpr_train),3)\n",
    "    fpr_test, tpr_test, _ = mt.roc_curve(y_test, pred_score_test, pos_label=1)\n",
    "    auc_test[i] = round(mt.auc(fpr_test,tpr_test),3)\n",
    "\n",
    "  return(auc_train, auc_test, X, y, all_test_index)\n",
    "\n",
    "def createDataFrame(auc_train,auc_test,repetitions ):\n",
    "  df_results = pd.DataFrame()\n",
    "  df_results['iteracion'] = list(range(0,repetitions))\n",
    "  df_results['auc_train'] = auc_train\n",
    "  df_results['auc_test'] = auc_test\n",
    "  df_results2 = pd.melt(df_results, id_vars=['iteracion'], value_vars=['auc_train', 'auc_test'], var_name='particion')\n",
    "  return(df_results2.fillna(0))\n",
    "\n",
    "\n",
    "def ROC_graph(pred_score_train, pred_score_test, y_train, y_test):\n",
    "\n",
    "  plt.figure(figsize=(12,10))\n",
    "  fpr_train, tpr_train, _ = mt.roc_curve(y_train, pred_score_train, pos_label=1)\n",
    "  auc_train = round(mt.auc(fpr_train,tpr_train),3)\n",
    "  plt.plot(fpr_train, tpr_train,label=\"AUC data entrenamiento, AUC=\" + str(auc_train), color='blueviolet')\n",
    "  fpr_test, tpr_test, _ = mt.roc_curve(y_test, pred_score_test, pos_label=1)\n",
    "  auc_test = round(mt.auc(fpr_test,tpr_test),3)\n",
    "  plt.plot(fpr_test, tpr_test,label=\"AUC data test, AUC=\" + str(auc_test), color='orange')\n",
    "  plt.plot([0,1], [0,1],color='gray', lw=2, linestyle=\"--\")\n",
    "  plt.title('ROC Curves')\n",
    "  plt.legend(fontsize=14)\n",
    "  plt.show()"
   ]
  },
  {
   "cell_type": "code",
   "execution_count": null,
   "id": "ar8EeHQv0tlL",
   "metadata": {
    "colab": {
     "base_uri": "https://localhost:8080/",
     "height": 617
    },
    "id": "ar8EeHQv0tlL",
    "outputId": "541aea36-b5b0-413a-f871-dfed843832cd"
   },
   "outputs": [],
   "source": [
    "n_samples = 1000\n",
    "n_features = 10\n",
    "weights_array=[0.7, 0.3]\n",
    "\n",
    "X, y = make_classification(n_samples = n_samples, n_features= n_features, n_classes = 2, weights = weights_array, class_sep= 0.82, hypercube = False, random_state=111)\n",
    "\n",
    "pca = PCA(n_components=2)\n",
    "X_pca = pca.fit_transform(X)\n",
    "\n",
    "# Visualizar\n",
    "\n",
    "df = pd.DataFrame(X_pca, columns=['PC1', 'PC2'])\n",
    "df['y'] = y\n",
    "\n",
    "(\n",
    " ggplot(df) +\n",
    " aes(x = 'PC1', y= 'PC2', fill='factor(y)') +\n",
    " geom_point(size=2.5, alpha=0.6) +\n",
    " theme_bw() +\n",
    " labs(title='Visualización de los datos simulados', x='PC1', y='PC2', fill='Enfermedad') +\n",
    " scale_fill_manual(values=['lightgray', 'brown']) +\n",
    " theme(figure_size=(8,6))\n",
    "\n",
    ")\n"
   ]
  },
  {
   "cell_type": "code",
   "execution_count": null,
   "id": "qJAg8ScWjCqg",
   "metadata": {
    "colab": {
     "base_uri": "https://localhost:8080/",
     "height": 889
    },
    "id": "qJAg8ScWjCqg",
    "outputId": "69a449f7-5a6a-4457-fb65-efce19c2f247"
   },
   "outputs": [],
   "source": [
    "## Partición hold out\n",
    "prop_partition = 0.3\n",
    "X_train, X_test, y_train, y_test = train_test_split(X, y, test_size=prop_partition, random_state=50)\n",
    "print(\"Dimensiones de set train:\", X_train.shape)\n",
    "print(\"Dimensiones de set test:\", X_test.shape)\n",
    "\n",
    "### Crear modelo\n",
    "model = DecisionTreeClassifier(criterion='gini', splitter='best', max_depth=4, min_samples_split=2, min_samples_leaf=1, random_state=0)\n",
    "model.fit(X_train, y_train)\n",
    "\n",
    "## Predicciones\n",
    "pred_score_train = model.predict_proba(X_train)[:,1]\n",
    "pred_score_test = model.predict_proba(X_test)[:,1]\n",
    "\n",
    "## Gráfico\n",
    "ROC_graph(pred_score_train, pred_score_test, y_train, y_test)"
   ]
  },
  {
   "cell_type": "code",
   "execution_count": null,
   "id": "dB83Zk1kFexL",
   "metadata": {
    "colab": {
     "base_uri": "https://localhost:8080/",
     "height": 684
    },
    "id": "dB83Zk1kFexL",
    "outputId": "1dc9d9e2-113c-43af-ed00-9dee7982b1a4"
   },
   "outputs": [],
   "source": [
    "def ejecutar_experimento(n_samples, n_features, prop_partition, repetitions, weight_major):\n",
    "    weights_array = [weight_major, 1 - weight_major]\n",
    "    auc_train, auc_test, X, y, all_test_index = runExperiments(n_samples, n_features, weights_array, prop_partition, repetitions)\n",
    "\n",
    "    df = createDataFrame(auc_train, auc_test, repetitions)\n",
    "\n",
    "    df_test = df[df.particion == 'auc_test'].copy()\n",
    "    std = df_test['value'].std()\n",
    "    df_test['std'] = std\n",
    "\n",
    "    # Gráfico 1: AUC Test (plotnine)\n",
    "    plot = (\n",
    "        ggplot(df_test)\n",
    "        + aes(x='factor(iteracion)', y='value')\n",
    "        + geom_col(fill='dodgerblue', color='black')\n",
    "        + geom_errorbar(aes(ymin='value - std', ymax='value + std'), width=0.2)\n",
    "        + theme_bw()\n",
    "        + labs(title='Valores de AUC de grupo test en cada experimento', x='Iteración', y='AUC')\n",
    "    )\n",
    "\n",
    "    fig_auc = plot.draw()\n",
    "    buf_auc = io.BytesIO()\n",
    "    fig_auc.savefig(buf_auc, format='png', dpi=150, bbox_inches='tight')\n",
    "    buf_auc.seek(0)\n",
    "    image_auc = Image.open(buf_auc)\n",
    "\n",
    "    # Gráfico 2: PCA (matplotlib)\n",
    "    pca = PCA(n_components=2)\n",
    "    X_pca = pca.fit_transform(X)\n",
    "\n",
    "    df_test_index = pd.DataFrame(X_pca, columns=['PC1', 'PC2'])\n",
    "    df_test_index['cases'] = df_test_index.index.isin(all_test_index)\n",
    "    df_test_index['y'] = y\n",
    "\n",
    "    plot_pca = (\n",
    "    ggplot(df_test_index) +\n",
    "    aes(x = 'PC1', y= 'PC2', fill='factor(cases)') +\n",
    "    geom_point(size=2.7, alpha=0.5) +\n",
    "    theme_bw() +\n",
    "    labs(title='Casos incluidos en grupo TEST', x='PC1', y='PC2', fill='Test') +\n",
    "    scale_fill_manual(values=['gray', 'brown']))\n",
    "\n",
    "    fig_pca = plot_pca.draw()\n",
    "    buf_pca = io.BytesIO()\n",
    "    fig_pca.savefig(buf_pca, format='png', dpi=150, bbox_inches='tight')\n",
    "    buf_pca.seek(0)\n",
    "    image_pca = Image.open(buf_pca)\n",
    "\n",
    "\n",
    "    return f\"Desviación estándar (test AUC): {std:.4f}\", image_auc, image_pca\n",
    "\n",
    "# Interfaz Gradio con 2 salidas de imagen\n",
    "iface = gr.Interface(\n",
    "    fn=ejecutar_experimento,\n",
    "    inputs=[\n",
    "        gr.Slider(100, 5000, value=100, label=\"Número de muestras\"),\n",
    "        gr.Slider(4, 20, value=5, step= 1.0, label=\"Número de características\"),\n",
    "        gr.Slider(0.1, 0.5, value=0.1, step=0.05, label=\"Proporción test\"),\n",
    "        gr.Slider(1, 30, value=5, step=1.0, label=\"Repeticiones\"),\n",
    "        gr.Slider(0.5, 0.99, value=0.9, step=0.05, label=\"Peso clase mayoritaria (sanos)\"),\n",
    "    ],\n",
    "    outputs=[\n",
    "        gr.Textbox(label=\"Resultado\"),\n",
    "        gr.Image(type=\"pil\", label=\"Gráfico AUC\"),\n",
    "        gr.Image(type=\"pil\", label=\"Visualización Casos testeados\")\n",
    "    ],\n",
    "    title=\"🧪 Interfaz Interactiva: AUC + Visualización PCA\",\n",
    "    description=\"Ajusta los parámetros para ver el rendimiento del modelo en cada iteración y cómo se distribuyen los pacientes testeados en el espacio de datos usando PCA\",\n",
    "    article=\"Ciclo de Machine Learning para Radiología: @Héctor Henríquez\"\n",
    "\n",
    ")\n",
    "\n",
    "iface.launch(debug=True)"
   ]
  },
  {
   "cell_type": "markdown",
   "id": "zEB8S0GbUGhH",
   "metadata": {
    "id": "zEB8S0GbUGhH"
   },
   "source": [
    "### Validación cruzada k-fold"
   ]
  },
  {
   "cell_type": "code",
   "execution_count": null,
   "id": "QZRKTeDESyiV",
   "metadata": {
    "colab": {
     "base_uri": "https://localhost:8080/"
    },
    "id": "QZRKTeDESyiV",
    "outputId": "5cdd7d6c-6cf1-487d-c2d0-57f5fe5e5d2b"
   },
   "outputs": [],
   "source": [
    "# Parámetros\n",
    "k = 5\n",
    "skf = StratifiedKFold(n_splits=k, shuffle=True, random_state=42)\n",
    "model = DecisionTreeClassifier(criterion='gini', splitter='best', max_depth=4, min_samples_split=2, min_samples_leaf=1, random_state=0)\n",
    "# Guardar curvas\n",
    "tprs = []\n",
    "aucs = []\n",
    "mean_fpr = np.linspace(0, 1, 100)\n",
    "\n",
    "for train_index, test_index in skf.split(X, y):\n",
    "    X_train, X_test = X[train_index], X[test_index]\n",
    "    y_train, y_test = y[train_index], y[test_index]\n",
    "\n",
    "    model.fit(X_train, y_train)\n",
    "    y_proba = model.predict_proba(X_test)[:, 1]\n",
    "\n",
    "    fpr, tpr, _ = roc_curve(y_test, y_proba)\n",
    "    auc = roc_auc_score(y_test, y_proba)\n",
    "    aucs.append(auc)\n",
    "\n",
    "    # Interpolamos tpr a los mismos fpr\n",
    "   # Interpolamos tpr a los mismos fpr\n",
    "    tpr_interp = np.interp(mean_fpr, fpr, tpr)\n",
    "    tpr_interp[0] = 0.0  # aseguramos que arranca en 0\n",
    "    tprs.append(tpr_interp)\n",
    "\n",
    "# Cálculo de estadísticas\n",
    "tprs = np.array(tprs)\n",
    "mean_tpr = np.mean(tprs, axis=0)\n",
    "std_tpr = np.std(tprs, axis=0, ddof=1)\n",
    "n = len(tprs)\n",
    "z = norm.ppf(0.975)\n",
    "\n",
    "# Intervalo de confianza\n",
    "tpr_lower = mean_tpr - z * std_tpr / np.sqrt(n)\n",
    "tpr_upper = mean_tpr + z * std_tpr / np.sqrt(n)\n",
    "tpr_lower = np.clip(tpr_lower, 0, 1)\n",
    "tpr_upper = np.clip(tpr_upper, 0, 1)\n",
    "\n",
    "# Promedio AUC\n",
    "mean_auc = np.mean(aucs)\n",
    "ci_auc_low = mean_auc - z * np.std(aucs, ddof=1) / np.sqrt(k)\n",
    "ci_auc_high = mean_auc + z * np.std(aucs, ddof=1) / np.sqrt(k)\n",
    "\n",
    "print(f\"AUC promedio: {mean_auc:.2f} ({ci_auc_low:.2f} - {ci_auc_high:.2f})\")\n",
    "print(\"\")\n",
    "print(\"Resultados por fold:\")\n",
    "for i in range(len(aucs)):\n",
    "  print(f\"AUC Fold número {i + 1}: {round(aucs[i],2)}\")\n"
   ]
  },
  {
   "cell_type": "code",
   "execution_count": null,
   "id": "dd2diLsDUNr_",
   "metadata": {
    "colab": {
     "base_uri": "https://localhost:8080/",
     "height": 607
    },
    "id": "dd2diLsDUNr_",
    "outputId": "fe841124-87ca-4291-ca8c-b386393e96ac"
   },
   "outputs": [],
   "source": [
    "\n",
    "#Plot ROC promedio\n",
    "plt.figure(figsize=(8, 6))\n",
    "plt.plot(mean_fpr, mean_tpr, color='blue', label=f'Promedio ROC (AUC = {mean_auc:.2f})')\n",
    "plt.fill_between(mean_fpr, tpr_lower, tpr_upper, color='dodgerblue', alpha=0.2,\n",
    "                 label='IC 95% de TPR')\n",
    "plt.plot([0, 1], [0, 1], linestyle='--', color='gray', label='Aleatorio')\n",
    "plt.xlabel('FPR')\n",
    "plt.ylabel('TPR')\n",
    "plt.title(f'Curva ROC promedio (AUC IC95%: {ci_auc_low:.2f} - {ci_auc_high:.2f})')\n",
    "plt.legend(loc='lower right')\n",
    "plt.grid(True)\n",
    "plt.tight_layout()\n",
    "plt.show()"
   ]
  }
 ],
 "metadata": {
  "colab": {
   "provenance": []
  },
  "kernelspec": {
   "display_name": "Python 3 (ipykernel)",
   "language": "python",
   "name": "python3"
  },
  "language_info": {
   "codemirror_mode": {
    "name": "ipython",
    "version": 3
   },
   "file_extension": ".py",
   "mimetype": "text/x-python",
   "name": "python",
   "nbconvert_exporter": "python",
   "pygments_lexer": "ipython3",
   "version": "3.12.4"
  }
 },
 "nbformat": 4,
 "nbformat_minor": 5
}
